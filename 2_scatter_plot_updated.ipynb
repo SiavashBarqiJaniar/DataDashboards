{
 "cells": [
  {
   "cell_type": "code",
   "execution_count": null,
   "metadata": {},
   "outputs": [],
   "source": [
    "%pip install pandas matplotlib seaborn plotly dash scikit-learn joblib\n",
    "import pandas as pd\n",
    "from pptx import Presentation\n",
    "from pptx.util import Inches\n",
    "import matplotlib.pyplot as plt\n",
    "import matplotlib.dates as mdates\n",
    "import seaborn as sns\n",
    "import plotly.express as px\n",
    "import dash\n",
    "from dash import dcc, html, Input, Output\n",
    "from dash.dependencies import Input, Output\n",
    "from sklearn.model_selection import train_test_split\n",
    "from sklearn.ensemble import RandomForestClassifier\n",
    "from sklearn.metrics import accuracy_score\n",
    "import joblib\n",
    "import re\n",
    "from io import BytesIO\n",
    "from flask import send_file\n",
    "import base64\n",
    "import plotly.io as pio\n",
    "from datetime import datetime\n",
    "import plotly.express as px"
   ]
  },
  {
   "cell_type": "code",
   "execution_count": null,
   "metadata": {},
   "outputs": [],
   "source": [
    "accidents = pd.read_csv(\"cleaned_data/accidents.csv\")\n",
    "path = \"report/dataset2/\""
   ]
  },
  {
   "cell_type": "code",
   "execution_count": null,
   "metadata": {},
   "outputs": [],
   "source": [
    "accidents"
   ]
  },
  {
   "cell_type": "code",
   "execution_count": null,
   "metadata": {},
   "outputs": [],
   "source": [
    "# sns.scatterplot(\n",
    "#     data=accidents, x='worker_age', y='program',\n",
    "#     alpha=0.6, color='teal'\n",
    "# )\n",
    "# plt.title(\"Worker Experience vs Program\", fontsize=14)\n",
    "# plt.xlabel(\"Worker Age (Years)\", fontsize=12)\n",
    "# plt.ylabel(\"Program Categories\", fontsize=12)\n",
    "# plt.grid(axis='y', linestyle='--', alpha=0.7)\n",
    "# # plt.tight_layout()\n",
    "# plt.savefig(path + \"worker_age_vs_program.png\")\n",
    "# plt.show()\n",
    "# plt.close()"
   ]
  },
  {
   "cell_type": "code",
   "execution_count": null,
   "metadata": {},
   "outputs": [],
   "source": [
    "cleaned = accidents.copy()\n",
    "# How\n",
    "cleaned['source_category_description2'][cleaned['source_category_description2']=='UNKNOWN'] = ''\n",
    "cleaned['source_category_description'] = cleaned['accident_source_category_description1'] + ' - ' + cleaned['source_category_description2']\n",
    "cleaned['how'] = cleaned['source_category_description'] + ' - ' + cleaned['accident_category_description']\n",
    "cleaned = cleaned.drop(columns=['accident_source_category_description1', 'source_category_description2', 'source_category_description', 'accident_category_description'])\n",
    "\n",
    "# Where\n",
    "cleaned['where'] = cleaned['organization_province_code']+' - '+cleaned['city']+' - '+cleaned['industry_sector_description']+' - '+cleaned['occupation_description']+' - '+cleaned['accident_place_description']\n",
    "cleaned = cleaned.drop(columns=['organization_province_code', 'city', 'accident_place_description', 'occupation_description', 'occupation_category_code', 'occupation_category_description', 'industry_sector_description'])"
   ]
  },
  {
   "cell_type": "code",
   "execution_count": null,
   "metadata": {},
   "outputs": [],
   "source": [
    "data = accidents.copy()#cleaned.copy()\n",
    "columns = data.columns.tolist()\n",
    "\n",
    "app = dash.Dash(__name__)\n",
    "\n",
    "app.layout = html.Div([\n",
    "    html.H1(\"Interactive Scatter Plot Viewer\"),\n",
    "\n",
    "    html.Div([\n",
    "        html.Label(\"Select Columns for Scatter Plot (2D or 3D):\"),\n",
    "        dcc.Dropdown(id='scatter-column-selector', options=[{'label': col, 'value': col} for col in columns], multi=True),\n",
    "\n",
    "        html.Label(\"Adjust Figure Size:\"),\n",
    "        dcc.Input(id='fig-width', type='number', value=8, step=1, min=4, max=15, placeholder='Width'),\n",
    "        dcc.Input(id='fig-height', type='number', value=6, step=1, min=4, max=15, placeholder='Height'),\n",
    "    ], style={'width': '48%', 'display': 'inline-block'}),\n",
    "\n",
    "    html.Button(\"Save Plot\", id='save-button', n_clicks=0),\n",
    "    dcc.Graph(id='scatter-plot')\n",
    "])\n",
    "\n",
    "@app.callback(\n",
    "    Output('scatter-plot', 'figure'),\n",
    "    [Input('scatter-column-selector', 'value'),\n",
    "     Input('fig-width', 'value'),\n",
    "     Input('fig-height', 'value')]\n",
    ")\n",
    "def update_plot(selected_cols, fig_width, fig_height):\n",
    "    if selected_cols:\n",
    "        if len(selected_cols) == 1:\n",
    "            if pd.api.types.is_numeric_dtype(data[selected_cols[0]]):\n",
    "                hist_data = data[selected_cols[0]].value_counts()\n",
    "                fig = px.bar(x=hist_data.index, y=hist_data.values, title=f\"{selected_cols[0]}\", labels={'x': selected_cols[0], 'y': 'Frequency'}, color_discrete_sequence=['blue'])\n",
    "            else:\n",
    "                hist_data = data[selected_cols[0]].value_counts().head(20)\n",
    "                fig = px.bar(x=hist_data.index, y=hist_data.values, title=f\"{selected_cols[0]}\", labels={'x': selected_cols[0], 'y': 'Frequency'}, color_discrete_sequence=['blue'])\n",
    "                # fig = px.histogram(data, x=selected_cols[0], title=f\"Histogram of {selected_cols[0]}\")\n",
    "        elif len(selected_cols) == 2:\n",
    "            fig = px.scatter(data, x=selected_cols[0], y=selected_cols[1], opacity=0.6, title=f\"{selected_cols[0]} vs {selected_cols[1]}\")\n",
    "        else:\n",
    "            fig = px.scatter_3d(data, \n",
    "                                x=selected_cols[0],\n",
    "                                y=selected_cols[1],\n",
    "                                z=selected_cols[2],\n",
    "                                opacity=0.7,\n",
    "                                size_max=0.2,\n",
    "                                title=f\"{selected_cols[0]} vs {selected_cols[1]} vs {selected_cols[2]}\")\n",
    "        fig.update_layout(width=fig_width * 100, height=fig_height * 100)\n",
    "        return fig\n",
    "    else:\n",
    "        return px.scatter(title=\"Select valid columns for plotting\")\n",
    "\n",
    "if __name__ == '__main__':\n",
    "    app.run_server(debug=True)\n"
   ]
  }
 ],
 "metadata": {
  "kernelspec": {
   "display_name": "MMM",
   "language": "python",
   "name": "python3"
  },
  "language_info": {
   "codemirror_mode": {
    "name": "ipython",
    "version": 3
   },
   "file_extension": ".py",
   "mimetype": "text/x-python",
   "name": "python",
   "nbconvert_exporter": "python",
   "pygments_lexer": "ipython3",
   "version": "3.11.8"
  }
 },
 "nbformat": 4,
 "nbformat_minor": 2
}
