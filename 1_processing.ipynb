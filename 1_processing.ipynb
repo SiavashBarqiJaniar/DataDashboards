{
 "cells": [
  {
   "cell_type": "code",
   "execution_count": null,
   "metadata": {},
   "outputs": [],
   "source": [
    "%pip install pandas matplotlib seaborn plotly dash scikit-learn joblib\n",
    "import pandas as pd\n",
    "from pptx import Presentation\n",
    "from pptx.util import Inches\n",
    "import matplotlib.pyplot as plt\n",
    "import matplotlib.dates as mdates\n",
    "import seaborn as sns\n",
    "import plotly.express as px\n",
    "import dash\n",
    "from dash import dcc, html, Input, Output\n",
    "from sklearn.model_selection import train_test_split\n",
    "from sklearn.ensemble import RandomForestClassifier\n",
    "from sklearn.metrics import accuracy_score\n",
    "import joblib\n",
    "import re"
   ]
  },
  {
   "cell_type": "code",
   "execution_count": null,
   "metadata": {},
   "outputs": [],
   "source": [
    "accidents = pd.read_csv(\"cleaned_data/accidents.csv\")"
   ]
  },
  {
   "cell_type": "code",
   "execution_count": null,
   "metadata": {},
   "outputs": [],
   "source": [
    "accidents['worker_age'].fillna(0).astype(int)"
   ]
  },
  {
   "cell_type": "code",
   "execution_count": null,
   "metadata": {},
   "outputs": [],
   "source": [
    "accidents.describe(include='all').T.fillna('')"
   ]
  },
  {
   "cell_type": "markdown",
   "metadata": {},
   "source": [
    "# Reports"
   ]
  },
  {
   "cell_type": "code",
   "execution_count": null,
   "metadata": {},
   "outputs": [],
   "source": [
    "path = \"report/dataset2/\""
   ]
  },
  {
   "cell_type": "markdown",
   "metadata": {},
   "source": [
    "### Geographic Trends"
   ]
  },
  {
   "cell_type": "code",
   "execution_count": null,
   "metadata": {},
   "outputs": [],
   "source": [
    "combined_geographic_data = (\n",
    "    accidents.groupby(['organization_province_code', 'city'])\n",
    "    .size()\n",
    "    .reset_index(name='Accident_Count')\n",
    "    .sort_values(by='Accident_Count', ascending=False)\n",
    ")\n",
    "\n",
    "top_combined_data = combined_geographic_data.head(20)\n",
    "\n",
    "# Plotting a bar chart for top cities and provinces\n",
    "plt.figure(figsize=(14, 8))\n",
    "for province in top_combined_data['organization_province_code'].unique():\n",
    "    subset = top_combined_data[top_combined_data['organization_province_code'] == province]\n",
    "    plt.bar(\n",
    "        subset['city'] + f\" ({province})\",\n",
    "        subset['Accident_Count'],\n",
    "        label=f\"Province: {province}\",\n",
    "        alpha=0.7\n",
    "    )\n",
    "\n",
    "plt.title(\"Top Cities with Workplace Accidents by Province\", fontsize=16)\n",
    "plt.xlabel(\"City (Province)\", fontsize=12)\n",
    "plt.ylabel(\"Accident Count\", fontsize=12)\n",
    "plt.xticks(rotation=45, ha='right', fontsize=10)\n",
    "plt.legend(title=\"Province\", bbox_to_anchor=(1.05, 1), loc='upper left')\n",
    "plt.tight_layout()\n",
    "plt.savefig(path+\"combined_geographic_bar.png\")\n",
    "plt.close()"
   ]
  },
  {
   "cell_type": "code",
   "execution_count": null,
   "metadata": {},
   "outputs": [],
   "source": [
    "# Convert 'Accident_Date' to datetime format\n",
    "accidents['date'] = pd.to_datetime(accidents['date'], errors='coerce')\n",
    "accidents['Year-Month'] = accidents['date'].dt.to_period('M').astype(str)\n",
    "\n",
    "# Get unique values for dropdown filters\n",
    "unique_industries = accidents['industry_sector_description'].dropna().unique()\n",
    "unique_accident_categories = accidents['accident_category_description'].dropna().unique()\n"
   ]
  },
  {
   "cell_type": "markdown",
   "metadata": {},
   "source": [
    "### severity Analysis Dashboard + Prediction Model"
   ]
  },
  {
   "cell_type": "code",
   "execution_count": null,
   "metadata": {},
   "outputs": [],
   "source": [
    "# Define Severity Mapping\n",
    "severity_mapping = {\n",
    "    'FALL ON SAME LEVEL': 1, 'FALL TO LOWER LEVEL': 2, 'STRUCK BY OBJECT': 2,\n",
    "    'CAUGHT IN OR COMPRESSED BY EQUIP./OBJECTS': 3, 'HIGHWAY ACCIDENT': 3,\n",
    "    'OVEREXERTION': 1, 'PEDESTRIAN STRUCK BY VEHICLE, MOBILE EQUIPMENT': 3,\n",
    "    'EXPLOSION': 3, 'CONTACT WITH ELECTRIC CURRENT': 3, 'FIRE--UNINTEDED OR UNCONTROLLED': 3\n",
    "}\n",
    "accidents['Severity_Score'] = accidents['accident_category_description'].map(severity_mapping).fillna(1)\n",
    "\n",
    "app = dash.Dash(__name__)\n",
    "\n",
    "app.layout = html.Div([\n",
    "    html.H1(\"Workplace Accident Severity Dashboard\", style={'textAlign': 'center'}),\n",
    "\n",
    "    dcc.Dropdown(\n",
    "        id='industry-dropdown',\n",
    "        options=[{'label': i, 'value': i} for i in accidents['industry_sector_description'].dropna().unique()],\n",
    "        value=None, placeholder=\"Select an industry\", multi=True\n",
    "    ),\n",
    "    dcc.Dropdown(\n",
    "        id='accident-dropdown',\n",
    "        options=[{'label': i, 'value': i} for i in accidents['accident_category_description'].dropna().unique()],\n",
    "        value=None, placeholder=\"Select an accident category\", multi=True\n",
    "    ),\n",
    "\n",
    "    # dcc.Graph(id='accident-trends-graph'),\n",
    "    dcc.Graph(id='severity-industry-bar'),\n",
    "    dcc.Graph(id='severity-occupation-heatmap')\n",
    "])\n",
    "\n",
    "@app.callback(\n",
    "    # [Output('accident-trends-graph', 'figure'),\n",
    "     [Output('severity-industry-bar', 'figure'),\n",
    "     Output('severity-occupation-heatmap', 'figure')],\n",
    "    [Input('industry-dropdown', 'value'),\n",
    "     Input('accident-dropdown', 'value')]\n",
    ")\n",
    "def update_graphs(selected_industries, selected_accidents):\n",
    "    filtered_data = accidents.copy()\n",
    "    if selected_industries:\n",
    "        filtered_data = filtered_data[filtered_data['industry_sector_description'].isin(selected_industries)]\n",
    "    if selected_accidents:\n",
    "        filtered_data = filtered_data[filtered_data['accident_category_description'].isin(selected_accidents)]\n",
    "\n",
    "    accident_trends_filtered = filtered_data.groupby('Year-Month').size().reset_index(name='Accident Count')\n",
    "    accident_trends_filtered['Accident Count'] = accident_trends_filtered['Accident Count'].astype(int)\n",
    "    # print(accident_trends_filtered)\n",
    "    # fig1 = px.line(accident_trends_filtered, x='Year-Month', y='Accident Count',\n",
    "    #                title='Monthly Workplace Accident Trends', markers=True)\n",
    "\n",
    "    # Industry Severity\n",
    "    industry_severity_filtered = filtered_data.groupby('industry_sector_description')['Severity_Score'].mean().reset_index()\n",
    "    industry_severity_filtered['Severity_Score'] = industry_severity_filtered['Severity_Score'].astype(float)\n",
    "    # print(industry_severity_filtered['Severity_Score'].unique())\n",
    "    fig2 = px.bar(industry_severity_filtered, x='Severity_Score', y='industry_sector_description',\n",
    "                  title=\"Average Severity Score by Industry\", color='Severity_Score')\n",
    "\n",
    "    # Occupation Severity Heatmap\n",
    "    occupation_severity_filtered = filtered_data.groupby('occupation_description')['Severity_Score'].mean().reset_index()\n",
    "    occupation_severity_filtered['Severity_Score'] = occupation_severity_filtered['Severity_Score'].astype(float)\n",
    "    # print(occupation_severity_filtered['Severity_Score'].unique())\n",
    "    top_occupations = occupation_severity_filtered.sort_values(by='Severity_Score', ascending=False).head(30)\n",
    "    fig3 = px.imshow(top_occupations.set_index('occupation_description').T,\n",
    "                     labels=dict(color=\"Severity_Score\"),\n",
    "                     title=\"Top 30 Occupations by Severity Score\")\n",
    "\n",
    "    return fig2, fig3\n",
    "\n",
    "\n",
    "if __name__ == '__main__':\n",
    "    app.run_server(debug=True)\n",
    "\n"
   ]
  },
  {
   "cell_type": "code",
   "execution_count": null,
   "metadata": {},
   "outputs": [],
   "source": [
    "# Train a Prediction Model\n",
    "features = ['worker_age', 'worker_experience_in_years', 'NOC']\n",
    "dataset2_clean = accidents.dropna(subset=features + ['Severity_Score'])\n",
    "# dataset2_clean['NOC'] = dataset2_clean['NOC'].astype(str)\n",
    "# dataset2_clean['NOC'] = dataset2_clean['NOC'].apply(lambda x: pd.NA if re.findall(\"\\D\", x) else x)\n",
    "# dataset2_clean = dataset2_clean.dropna(subset=['NOC'])\n",
    "# dataset2_clean['NOC'].unique()\n",
    "# dataset2_clean"
   ]
  },
  {
   "cell_type": "code",
   "execution_count": null,
   "metadata": {},
   "outputs": [],
   "source": [
    "# ML\n",
    "X = dataset2_clean[features]\n",
    "y = dataset2_clean['Severity_Score']\n",
    "X_train, X_test, y_train, y_test = train_test_split(X, y, test_size=0.2, random_state=42)\n",
    "\"\"\"\n",
    "I chose Random Forest Classifier becuase it is suitable for structured data like this one. And can deduce overfitting via ensemble learning and is capable of analyzing feature importance which is the main goal of using ML for this dataset.\n",
    "\"\"\"\n",
    "model = RandomForestClassifier(n_estimators=100, random_state=42)\n",
    "model.fit(X_train, y_train)\n",
    "y_pred = model.predict(X_test)\n",
    "y_pred = [int(y) for y in y_pred]\n"
   ]
  },
  {
   "cell_type": "code",
   "execution_count": null,
   "metadata": {},
   "outputs": [],
   "source": [
    "set(y_pred)"
   ]
  },
  {
   "cell_type": "code",
   "execution_count": null,
   "metadata": {},
   "outputs": [],
   "source": [
    "\n",
    "model_accuracy = accuracy_score(y_test, y_pred)\n",
    "joblib.dump(model, \"report/dataset2/severity_prediction_model.pkl\")\n",
    "\n",
    "if __name__ == '__main__':\n",
    "    app.run_server(debug=True)"
   ]
  }
 ],
 "metadata": {
  "kernelspec": {
   "display_name": "MMM",
   "language": "python",
   "name": "python3"
  },
  "language_info": {
   "codemirror_mode": {
    "name": "ipython",
    "version": 3
   },
   "file_extension": ".py",
   "mimetype": "text/x-python",
   "name": "python",
   "nbconvert_exporter": "python",
   "pygments_lexer": "ipython3",
   "version": "3.11.8"
  }
 },
 "nbformat": 4,
 "nbformat_minor": 2
}
